{
 "cells": [
  {
   "cell_type": "code",
   "execution_count": 58,
   "metadata": {
    "colab": {},
    "colab_type": "code",
    "id": "GyakVoXhBGrv",
    "outputId": "39b8ca38-73c2-4f96-a16b-9898575919b9"
   },
   "outputs": [
    {
     "name": "stdout",
     "output_type": "stream",
     "text": [
      "    siswa_id   pelajaran  nilai jeniskelamin kelas\n",
      "0          1  Matematika     36    perempuan   12A\n",
      "1          2  Matematika     14    perempuan   12D\n",
      "2          3      Fisika     43    perempuan   12D\n",
      "3          4       Kimia     22    laki-laki   12B\n",
      "4          5     Ekonomi     94    perempuan   12C\n",
      "5          6     Ekonomi     21    perempuan   12A\n",
      "6          7     Geologi     21    perempuan   12A\n",
      "7          8  Matematika     59    laki-laki   12D\n",
      "8          9       Kimia     15    laki-laki   12B\n",
      "9         10       Kimia     19    laki-laki   12B\n",
      "10        11      Fisika     86    laki-laki   12C\n",
      "11        12      Fisika     89    laki-laki   12C\n",
      "12        13       Kimia     63    perempuan   12A\n",
      "13        14       Kimia      8    perempuan   12A\n",
      "14        15  Matematika     59    perempuan   12A\n",
      "15        16       Kimia     68    perempuan   12A\n",
      "16        17     Geologi     45    laki-laki   12D\n",
      "17        18  Matematika     62    laki-laki   12C\n",
      "18        19     Geologi     56    laki-laki   12A\n",
      "19        20       Kimia     67    laki-laki   12D\n"
     ]
    }
   ],
   "source": [
    "# Persiapan membuat data\n",
    "import pandas as pd\n",
    "import random\n",
    "\n",
    "pelajaran = ['Matematika', 'Fisika', 'Biologi', 'Kimia', 'Geologi', 'Ekonomi']\n",
    "kelas = ['12A', '12B', '12C', '12D']\n",
    "\n",
    "hasil_nilai = {\n",
    "    'siswa_id' : range(1, 21),\n",
    "    'pelajaran' : [random.choice(pelajaran) for i in range(20)],\n",
    "    'nilai' : [random.choice(range(0, 100)) for i in range(20)],\n",
    "    'jeniskelamin' : [random.choice(['laki-laki', 'perempuan']) for i in range(20)],\n",
    "    'kelas' : [random.choice(kelas) for i in range(20)]\n",
    "}\n",
    "\n",
    "df = pd.DataFrame(hasil_nilai)\n",
    "print(df.head())"
   ]
  },
  {
   "cell_type": "markdown",
   "metadata": {
    "colab_type": "text",
    "id": "aNoScqypBGr5"
   },
   "source": [
    "<h2>Soal 1: Indexing</h2>\n",
    "\n",
    "1. Lakukan indexing terhadap dataframe untuk mengakses column nilai dan kelas saja\n",
    "2. Lakukan indexing terhadap dataframe untuk mengakses row 5 sampai 10 beserta column pelajaran dan nilai"
   ]
  },
  {
   "cell_type": "code",
   "execution_count": 59,
   "metadata": {
    "colab": {},
    "colab_type": "code",
    "id": "rKmgvnS2BGr6"
   },
   "outputs": [
    {
     "name": "stdout",
     "output_type": "stream",
     "text": [
      "    nilai kelas\n",
      "0      36   12A\n",
      "1      14   12D\n",
      "2      43   12D\n",
      "3      22   12B\n",
      "4      94   12C\n",
      "5      21   12A\n",
      "6      21   12A\n",
      "7      59   12D\n",
      "8      15   12B\n",
      "9      19   12B\n",
      "10     86   12C\n",
      "11     89   12C\n",
      "12     63   12A\n",
      "13      8   12A\n",
      "14     59   12A\n",
      "15     68   12A\n",
      "16     45   12D\n",
      "17     62   12C\n",
      "18     56   12A\n",
      "19     67   12D\n",
      "\n",
      "     pelajaran  nilai\n",
      "5      Ekonomi     21\n",
      "6      Geologi     21\n",
      "7   Matematika     59\n",
      "8        Kimia     15\n",
      "9        Kimia     19\n",
      "10      Fisika     86\n"
     ]
    }
   ],
   "source": [
    "# code here\n",
    "index_nk = [\"nilai\",\"kelas\"]\n",
    "print(df[index_nk])\n",
    "print()\n",
    "index_pn = [\"pelajaran\", \"nilai\"]\n",
    "print(df.loc[5:10,index_pn])"
   ]
  },
  {
   "cell_type": "markdown",
   "metadata": {
    "colab_type": "text",
    "id": "F55zUl5GBGr_"
   },
   "source": [
    "<h2>Soal 2: Filter DataFrame Dengan Boolean</h2>\n",
    "\n",
    "1. Tampilkan semua data siswa pada mata pelajaran Ekonomi dan Fisika\n",
    "2. Tampilkan semua data siswa yang mempunyai nilai lebih dari 50 di mata pelajaran Kimia \n",
    "3. Tampilkan semua data yang mempunyai nilai lebih dari 70, berjnis kelamin perempuan dan di kelas 12C"
   ]
  },
  {
   "cell_type": "code",
   "execution_count": 67,
   "metadata": {
    "colab": {},
    "colab_type": "code",
    "id": "eB5oSf_KBGsA"
   },
   "outputs": [
    {
     "name": "stdout",
     "output_type": "stream",
     "text": [
      "    siswa_id pelajaran  nilai jeniskelamin kelas\n",
      "2          3    Fisika     43    perempuan   12D\n",
      "4          5   Ekonomi     94    perempuan   12C\n",
      "5          6   Ekonomi     21    perempuan   12A\n",
      "10        11    Fisika     86    laki-laki   12C\n",
      "11        12    Fisika     89    laki-laki   12C\n",
      "    siswa_id pelajaran  nilai jeniskelamin kelas\n",
      "12        13     Kimia     63    perempuan   12A\n",
      "15        16     Kimia     68    perempuan   12A\n",
      "19        20     Kimia     67    laki-laki   12D\n",
      "   siswa_id pelajaran  nilai jeniskelamin kelas\n",
      "4         5   Ekonomi     94    perempuan   12C\n"
     ]
    }
   ],
   "source": [
    "# code here\n",
    "index_ef=(df.pelajaran == \"Ekonomi\") | (df.pelajaran == \"Fisika\")\n",
    "print(df[index_ef])\n",
    "\n",
    "index_k50=(df.pelajaran == \"Kimia\") & (df.nilai > 50)\n",
    "print(df[index_k50])\n",
    "\n",
    "index_superb=(df.jeniskelamin == \"perempuan\") & (df.nilai > 70) & (df.kelas == \"12C\")\n",
    "#print(index_superb)\n",
    "print(df[index_superb])"
   ]
  },
  {
   "cell_type": "markdown",
   "metadata": {
    "colab_type": "text",
    "id": "6Od6R3H1BGsE"
   },
   "source": [
    "<h2>Soal 3: Data Transformation</h2>\n",
    "\n",
    "lakukan data transformasi terhadap column 'nilai' dengan fungsi transformasi, berikut rumus dari normalisasi\n",
    "\n",
    "![alt text](https://drive.google.com/uc?id=1wed-EbRSTA0JP1ceDp6lcKBqH2yJ4aa3)"
   ]
  },
  {
   "cell_type": "code",
   "execution_count": 79,
   "metadata": {
    "colab": {},
    "colab_type": "code",
    "id": "qeV_iH8nBGsF"
   },
   "outputs": [
    {
     "name": "stdout",
     "output_type": "stream",
     "text": [
      "Data Frame sebelum xnormalized\n",
      "    siswa_id   pelajaran  nilai jeniskelamin kelas\n",
      "0          1  Matematika     36    perempuan   12A\n",
      "1          2  Matematika     14    perempuan   12D\n",
      "2          3      Fisika     43    perempuan   12D\n",
      "3          4       Kimia     22    laki-laki   12B\n",
      "4          5     Ekonomi     94    perempuan   12C\n",
      "5          6     Ekonomi     21    perempuan   12A\n",
      "6          7     Geologi     21    perempuan   12A\n",
      "7          8  Matematika     59    laki-laki   12D\n",
      "8          9       Kimia     15    laki-laki   12B\n",
      "9         10       Kimia     19    laki-laki   12B\n",
      "10        11      Fisika     86    laki-laki   12C\n",
      "11        12      Fisika     89    laki-laki   12C\n",
      "12        13       Kimia     63    perempuan   12A\n",
      "13        14       Kimia      8    perempuan   12A\n",
      "14        15  Matematika     59    perempuan   12A\n",
      "15        16       Kimia     68    perempuan   12A\n",
      "16        17     Geologi     45    laki-laki   12D\n",
      "17        18  Matematika     62    laki-laki   12C\n",
      "18        19     Geologi     56    laki-laki   12A\n",
      "19        20       Kimia     67    laki-laki   12D\n",
      "Data Frame setelah normalized\n",
      "    siswa_id   pelajaran  nilai jeniskelamin kelas  Xnormalized\n",
      "0          1  Matematika     36    perempuan   12A     0.325581\n",
      "1          2  Matematika     14    perempuan   12D     0.069767\n",
      "2          3      Fisika     43    perempuan   12D     0.406977\n",
      "3          4       Kimia     22    laki-laki   12B     0.162791\n",
      "4          5     Ekonomi     94    perempuan   12C     1.000000\n",
      "5          6     Ekonomi     21    perempuan   12A     0.151163\n",
      "6          7     Geologi     21    perempuan   12A     0.151163\n",
      "7          8  Matematika     59    laki-laki   12D     0.593023\n",
      "8          9       Kimia     15    laki-laki   12B     0.081395\n",
      "9         10       Kimia     19    laki-laki   12B     0.127907\n",
      "10        11      Fisika     86    laki-laki   12C     0.906977\n",
      "11        12      Fisika     89    laki-laki   12C     0.941860\n",
      "12        13       Kimia     63    perempuan   12A     0.639535\n",
      "13        14       Kimia      8    perempuan   12A     0.000000\n",
      "14        15  Matematika     59    perempuan   12A     0.593023\n",
      "15        16       Kimia     68    perempuan   12A     0.697674\n",
      "16        17     Geologi     45    laki-laki   12D     0.430233\n",
      "17        18  Matematika     62    laki-laki   12C     0.627907\n",
      "18        19     Geologi     56    laki-laki   12A     0.558140\n",
      "19        20       Kimia     67    laki-laki   12D     0.686047\n"
     ]
    }
   ],
   "source": [
    "# code here\n",
    "def Xnormalized(x):\n",
    "    hasil=(x-x.min())/(x.max()-x.min())\n",
    "    return hasil\n",
    "\n",
    "print(\"Data Frame sebelum xnormalized\")\n",
    "print(df)\n",
    "\n",
    "df[\"Xnormalized\"]=df[[\"nilai\"]].apply(Xnormalized)\n",
    "print(\"Data Frame setelah normalized\")\n",
    "print(df)"
   ]
  },
  {
   "cell_type": "code",
   "execution_count": null,
   "metadata": {},
   "outputs": [],
   "source": []
  }
 ],
 "metadata": {
  "colab": {
   "name": "Tugas Hari 2 Pekan 2.ipynb",
   "provenance": []
  },
  "kernelspec": {
   "display_name": "Python 3",
   "language": "python",
   "name": "python3"
  },
  "language_info": {
   "codemirror_mode": {
    "name": "ipython",
    "version": 3
   },
   "file_extension": ".py",
   "mimetype": "text/x-python",
   "name": "python",
   "nbconvert_exporter": "python",
   "pygments_lexer": "ipython3",
   "version": "3.7.6"
  }
 },
 "nbformat": 4,
 "nbformat_minor": 4
}
